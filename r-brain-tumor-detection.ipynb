{
 "cells": [
  {
   "cell_type": "code",
   "execution_count": null,
   "metadata": {
    "_execution_state": "idle",
    "_kg_hide-output": true,
    "_uuid": "051d70d956493feee0c6d64651c6a088724dca2a"
   },
   "outputs": [],
   "source": [
    "# This R environment comes with many helpful analytics packages installed\n",
    "# It is defined by the kaggle/rstats Docker image: https://github.com/kaggle/docker-rstats\n",
    "# For example, here's a helpful package to load\n",
    "\n",
    "library(tidyverse) # metapackage of all tidyverse packages\n",
    "\n",
    "# Input data files are available in the read-only \"../input/\" directory\n",
    "# For example, running this (by clicking run or pressing Shift+Enter) will list all files under the input directory\n",
    "\n",
    "list.files(path = \"../input\")\n",
    "\n",
    "# You can write up to 20GB to the current directory (/kaggle/working/) that gets preserved as output when you create a version using \"Save & Run All\" \n",
    "# You can also write temporary files to /kaggle/temp/, but they won't be saved outside of the current session"
   ]
  },
  {
   "cell_type": "markdown",
   "metadata": {},
   "source": [
    "# Import Libraries"
   ]
  },
  {
   "cell_type": "code",
   "execution_count": null,
   "metadata": {},
   "outputs": [],
   "source": [
    "library('tensorflow')\n",
    "library('keras')\n",
    "library('cowplot')\n",
    "library('tidyverse')\n",
    "library('ggplot2')\n",
    "library('gridExtra')\n",
    "library('imager')\n",
    "library('caret')"
   ]
  },
  {
   "cell_type": "code",
   "execution_count": null,
   "metadata": {},
   "outputs": [],
   "source": [
    "set.seed(42)"
   ]
  },
  {
   "cell_type": "markdown",
   "metadata": {},
   "source": [
    "# Load Data"
   ]
  },
  {
   "cell_type": "code",
   "execution_count": null,
   "metadata": {},
   "outputs": [],
   "source": [
    "root_dir <- \"/kaggle/input/brain-mri-images-for-brain-tumor-detection/brain_tumor_dataset\""
   ]
  },
  {
   "cell_type": "code",
   "execution_count": null,
   "metadata": {},
   "outputs": [],
   "source": [
    "class_names <- list.dirs(root_dir, full.names = FALSE, recursive = FALSE)\n",
    "class_names"
   ]
  },
  {
   "cell_type": "code",
   "execution_count": null,
   "metadata": {},
   "outputs": [],
   "source": [
    "for (class_name in class_names) {\n",
    "    class_path <- file.path(root_dir, class_name)\n",
    "    num_files <- length(list.files(class_path, full.names = TRUE))\n",
    "    cat(\"Class\", class_name, \":\", num_files, \"\\n\")\n",
    "}"
   ]
  },
  {
   "cell_type": "code",
   "execution_count": null,
   "metadata": {},
   "outputs": [],
   "source": [
    "for (class_name in class_names) {\n",
    "    class_path = file.path(root_dir, class_name)\n",
    "    files = list.files(class_path, full.names = TRUE)\n",
    "\n",
    "    indices <- sample(1:length(files))\n",
    "\n",
    "    train_indices <- indices[1:floor(0.8 * length(files))]\n",
    "    valid_indices <- indices[(floor(0.8 * length(files)) + 1):(floor((0.8 + 0.10) * length(files)))]\n",
    "    test_indices <- indices[(floor((0.8 + 0.10) * length(files)) + 1):length(files)]\n",
    "\n",
    "    class_train_path <- file.path(\"train_set\", class_name)\n",
    "    class_valid_path <- file.path(\"valid_set\", class_name)\n",
    "    class_test_path <- file.path(\"test_set\", class_name)\n",
    "\n",
    "    dir.create(class_train_path, recursive = TRUE, showWarnings = FALSE)\n",
    "    dir.create(class_valid_path, recursive = TRUE, showWarnings = FALSE)\n",
    "    dir.create(class_test_path, recursive = TRUE, showWarnings = FALSE)\n",
    "\n",
    "    for (i in train_indices) {\n",
    "        file.copy(files[i], class_train_path)\n",
    "    }\n",
    "\n",
    "    for (i in valid_indices) {\n",
    "        file.copy(files[i], class_valid_path)\n",
    "    }\n",
    "\n",
    "    for (i in test_indices) {\n",
    "        file.copy(files[i], class_test_path)\n",
    "    }\n",
    "}"
   ]
  },
  {
   "cell_type": "code",
   "execution_count": null,
   "metadata": {},
   "outputs": [],
   "source": [
    "train_path <- \"train_set\"\n",
    "valid_path <- \"valid_set\"\n",
    "test_path <- \"test_set\""
   ]
  },
  {
   "cell_type": "code",
   "execution_count": null,
   "metadata": {},
   "outputs": [],
   "source": [
    "train_files <- list.files(train_path, recursive = TRUE, full.names = TRUE)\n",
    "valid_files <- list.files(valid_path, recursive = TRUE, full.names = TRUE)\n",
    "test_files <- list.files(test_path, recursive = TRUE, full.names = TRUE)"
   ]
  },
  {
   "cell_type": "code",
   "execution_count": null,
   "metadata": {},
   "outputs": [],
   "source": [
    "num_train_samples <- length(train_files)\n",
    "num_valid_samples <- length(valid_files)\n",
    "num_test_samples <- length(test_files)\n",
    "num_total_samples <- sum(c(num_train_samples, num_valid_samples, num_test_samples))"
   ]
  },
  {
   "cell_type": "code",
   "execution_count": null,
   "metadata": {},
   "outputs": [],
   "source": [
    "cat('Num Total Samples:', num_total_samples, '\\n')\n",
    "cat('Num Train Samples:', num_train_samples, '\\n')\n",
    "cat('Num Valid Samples:', num_valid_samples, '\\n')\n",
    "cat('Num Test Samples:', num_test_samples, '\\n')"
   ]
  },
  {
   "cell_type": "markdown",
   "metadata": {},
   "source": [
    "# EDA"
   ]
  },
  {
   "cell_type": "code",
   "execution_count": null,
   "metadata": {},
   "outputs": [],
   "source": [
    "my_bar <- barplot(c(num_train_samples, num_valid_samples, num_test_samples),\n",
    "        names.arg = c(\"Train Set\" , \"Valid Set\" , \"Test Set\"),\n",
    "        col= c(rgb(0.3, 0.1, 0.4, 0.6), rgb(0.3, 0.5, 0.4, 0.6) , rgb(0.3, 0.9, 0.4, 0.6)),\n",
    "        border = \"black\",\n",
    "        horiz = FALSE,\n",
    "        cex.axis = 0.8,\n",
    "        cex.names = 0.8,\n",
    "        axis.lty = 1,\n",
    "        ylim = c(0, num_total_samples),\n",
    "        main = \"Distribution of Sets\",\n",
    "        xlab = \"Set name\",\n",
    "        ylab = \"Num. of samples in set\"\n",
    ")\n",
    "\n",
    "text(x = my_bar, \n",
    "     y = c(num_train_samples, num_valid_samples, num_test_samples), \n",
    "     label = c(num_train_samples, num_valid_samples, num_test_samples), \n",
    "     pos = 3, cex = 0.8, col = \"black\")\n",
    "\n",
    "legend(\"topright\", legend = c(\"Train Set\" , \"Valid Set\" , \"Test Set\"), \n",
    "     col = c(rgb(0.3, 0.1, 0.4, 0.6), rgb(0.3, 0.5, 0.4, 0.6) , rgb(0.3, 0.9, 0.4, 0.6)), \n",
    "     bty = \"n\", pch = 20 , pt.cex = 2, cex = 0.8, horiz = FALSE, inset = c(0.05, 0.05))"
   ]
  },
  {
   "cell_type": "code",
   "execution_count": null,
   "metadata": {},
   "outputs": [],
   "source": [
    "all_images <- list.files(root_dir, full.names = TRUE, recursive = TRUE)\n",
    "sample_paths <- sample(all_images, 16)\n",
    "\n",
    "images <- lapply(sample_paths, function(image_file) {\n",
    "  img <- load.image(image_file)\n",
    "  img\n",
    "})\n",
    "\n",
    "labels <- sapply(sample_paths, function(x) { basename(dirname(x)) })\n",
    "\n",
    "par(mfrow = c(4, 4), mar = c(2, 2, 2, 2))\n",
    "\n",
    "for (i in 1:16) {\n",
    "    plot(images[[i]], main = paste(\"Tumor:\", labels[i]), axes = FALSE)\n",
    "}"
   ]
  },
  {
   "cell_type": "markdown",
   "metadata": {},
   "source": [
    "# Preprocess"
   ]
  },
  {
   "cell_type": "code",
   "execution_count": null,
   "metadata": {},
   "outputs": [],
   "source": [
    "train_datagen <- image_data_generator(\n",
    "    rescale = 1/255,\n",
    "    rotation_range = 20,\n",
    "    width_shift_range = 0.1,\n",
    "    height_shift_range = 0.1,\n",
    "    shear_range = 0.1,\n",
    "    zoom_range = 0.1,\n",
    "    horizontal_flip = TRUE,\n",
    "    fill_mode = \"nearest\"\n",
    ")"
   ]
  },
  {
   "cell_type": "code",
   "execution_count": null,
   "metadata": {},
   "outputs": [],
   "source": [
    "valid_datagen <- image_data_generator(\n",
    "    rescale = 1/255\n",
    ")"
   ]
  },
  {
   "cell_type": "code",
   "execution_count": null,
   "metadata": {},
   "outputs": [],
   "source": [
    "test_datagen <- image_data_generator(\n",
    "    rescale = 1/255\n",
    ")"
   ]
  },
  {
   "cell_type": "code",
   "execution_count": null,
   "metadata": {},
   "outputs": [],
   "source": [
    "train_generator <- flow_images_from_directory(\n",
    "    train_path,\n",
    "    train_datagen,\n",
    "    target_size = c(299, 299),\n",
    "    batch_size = 32,\n",
    "    class_mode = \"categorical\"\n",
    ")"
   ]
  },
  {
   "cell_type": "code",
   "execution_count": null,
   "metadata": {},
   "outputs": [],
   "source": [
    "valid_generator <- flow_images_from_directory(\n",
    "    valid_path,\n",
    "    valid_datagen,\n",
    "    target_size = c(299, 299),\n",
    "    batch_size = 32,\n",
    "    class_mode = \"categorical\"\n",
    ")"
   ]
  },
  {
   "cell_type": "code",
   "execution_count": null,
   "metadata": {},
   "outputs": [],
   "source": [
    "test_generator <- flow_images_from_directory(\n",
    "    test_path,\n",
    "    test_datagen,\n",
    "    target_size = c(299, 299),\n",
    "    batch_size = 32,\n",
    "    class_mode = \"categorical\"\n",
    ")"
   ]
  },
  {
   "cell_type": "markdown",
   "metadata": {},
   "source": [
    "# Model"
   ]
  },
  {
   "cell_type": "code",
   "execution_count": null,
   "metadata": {},
   "outputs": [],
   "source": [
    "base_model <- application_xception(\n",
    "    weights = \"imagenet\",\n",
    "    include_top = FALSE,\n",
    "    input_shape = c(299, 299, 3)\n",
    ")"
   ]
  },
  {
   "cell_type": "code",
   "execution_count": null,
   "metadata": {},
   "outputs": [],
   "source": [
    "model <- keras_model_sequential() %>%\n",
    "    base_model %>%\n",
    "    layer_global_average_pooling_2d() %>%\n",
    "    layer_batch_normalization() %>%\n",
    "    layer_dense(units = 256, activation = \"relu\", kernel_regularizer = regularizer_l2(0.01)) %>% \n",
    "    layer_batch_normalization() %>%\n",
    "    layer_dropout(0.5) %>%\n",
    "    layer_dense(units = length(class_names), activation = \"softmax\")"
   ]
  },
  {
   "cell_type": "code",
   "execution_count": null,
   "metadata": {},
   "outputs": [],
   "source": [
    "freeze_weights(base_model)"
   ]
  },
  {
   "cell_type": "code",
   "execution_count": null,
   "metadata": {},
   "outputs": [],
   "source": [
    "model %>% compile(\n",
    "    optimizer = optimizer_adam(),\n",
    "    loss = \"categorical_crossentropy\",\n",
    "    metrics = c(\"accuracy\")\n",
    ")"
   ]
  },
  {
   "cell_type": "markdown",
   "metadata": {},
   "source": [
    "# Train"
   ]
  },
  {
   "cell_type": "code",
   "execution_count": null,
   "metadata": {},
   "outputs": [],
   "source": [
    "history <- model %>% fit(\n",
    "    train_generator,\n",
    "    epochs = 50,\n",
    "    validation_data = valid_generator,\n",
    ")"
   ]
  },
  {
   "cell_type": "code",
   "execution_count": null,
   "metadata": {},
   "outputs": [],
   "source": [
    "history_df <- data.frame(\n",
    "    epoch = 1:50,\n",
    "    accuray = history$metrics$accuracy,\n",
    "    val_accuracy = history$metrics$val_accuracy,\n",
    "    loss = history$metrics$loss,\n",
    "    val_loss = history$metrics$val_loss\n",
    ")"
   ]
  },
  {
   "cell_type": "code",
   "execution_count": null,
   "metadata": {},
   "outputs": [],
   "source": [
    "tail(history_df)"
   ]
  },
  {
   "cell_type": "markdown",
   "metadata": {},
   "source": [
    "# Results"
   ]
  },
  {
   "cell_type": "code",
   "execution_count": null,
   "metadata": {},
   "outputs": [],
   "source": [
    "accuracy_df <- data.frame(epoch = 1:50, train_acc = history$metrics$accuracy, val_acc = history$metrics$val_accuracy)\n",
    "\n",
    "ggplot(accuracy_df, aes(x = epoch)) +\n",
    "  geom_line(aes(y = train_acc, color = \"Train Accuracy\")) +\n",
    "  geom_line(aes(y = val_acc, color = \"Validation Accuracy\")) +\n",
    "  labs(title = \"Accuracy Curve\", x = \"Epoch\", y = \"Accuracy\") +\n",
    "  scale_color_manual(\"\", \n",
    "                     breaks = c(\"Train Accuracy\", \"Validation Accuracy\"),\n",
    "                     values = c(\"blue\", \"red\")) +\n",
    "  theme_minimal()"
   ]
  },
  {
   "cell_type": "code",
   "execution_count": null,
   "metadata": {},
   "outputs": [],
   "source": [
    "loss_df <- data.frame(epoch = 1:50, train_acc = history$metrics$loss, val_acc = history$metrics$val_loss)\n",
    "\n",
    "ggplot(loss_df, aes(x = epoch)) +\n",
    "  geom_line(aes(y = train_acc, color = \"Train Loss\")) +\n",
    "  geom_line(aes(y = val_acc, color = \"Validation Loss\")) +\n",
    "  labs(title = \"Loss Curve\", x = \"Epoch\", y = \"Loss\") +\n",
    "  scale_color_manual(\"\", \n",
    "                     breaks = c(\"Train Loss\", \"Validation Loss\"),\n",
    "                     values = c(\"blue\", \"red\")) +\n",
    "  theme_minimal()"
   ]
  },
  {
   "cell_type": "code",
   "execution_count": null,
   "metadata": {},
   "outputs": [],
   "source": [
    "pred_probs <- model %>% predict(test_generator)\n",
    "pred_labels <- apply(pred_probs, 1, which.max) - 1\n",
    "\n",
    "true_labels <- test_generator$classes\n",
    "\n",
    "conf_matrix <- confusionMatrix(factor(pred_labels), factor(true_labels))\n",
    "print(conf_matrix)"
   ]
  },
  {
   "cell_type": "code",
   "execution_count": null,
   "metadata": {},
   "outputs": [],
   "source": [
    "accuracy <- conf_matrix$overall[\"Accuracy\"]\n",
    "precision <- conf_matrix$byClass[\"Pos Pred Value\"]\n",
    "recall <- conf_matrix$byClass[\"Sensitivity\"]\n",
    "f1_score <- 2 * (precision * recall) / (precision + recall)\n",
    "\n",
    "cat(\"Accuracy:\", accuracy, \"\\n\")\n",
    "cat(\"Precision:\", precision, \"\\n\")\n",
    "cat(\"Recall:\", recall, \"\\n\")\n",
    "cat(\"F1 Score:\", f1_score, \"\\n\")"
   ]
  },
  {
   "cell_type": "code",
   "execution_count": null,
   "metadata": {},
   "outputs": [],
   "source": [
    "images <- lapply(test_files, function(image_file) {\n",
    "  img <- load.image(image_file)\n",
    "  img\n",
    "})\n",
    "\n",
    "labels <- sapply(test_files, function(x) { basename(dirname(x)) })\n",
    "\n",
    "par(mfrow = c(5, 5), mar = c(3, 3, 3, 3))\n",
    "\n",
    "for (i in 1:25) {\n",
    "    plot(images[[i]], axes = FALSE)\n",
    "    color <- ifelse(true_labels[i] == pred_labels[i], \"blue\", \"red\")\n",
    "    title(main = paste(\"True:\", class_names[true_labels[i]+1], \"\\nPredicted:\", class_names[pred_labels[i]+1]), col.main = color)\n",
    "}"
   ]
  },
  {
   "cell_type": "code",
   "execution_count": null,
   "metadata": {},
   "outputs": [],
   "source": []
  }
 ],
 "metadata": {
  "kaggle": {
   "accelerator": "nvidiaTeslaT4",
   "dataSources": [
    {
     "datasetId": 165566,
     "sourceId": 377107,
     "sourceType": "datasetVersion"
    }
   ],
   "dockerImageVersionId": 30619,
   "isGpuEnabled": true,
   "isInternetEnabled": true,
   "language": "r",
   "sourceType": "notebook"
  },
  "kernelspec": {
   "display_name": "R",
   "language": "R",
   "name": "ir"
  },
  "language_info": {
   "codemirror_mode": "r",
   "file_extension": ".r",
   "mimetype": "text/x-r-source",
   "name": "R",
   "pygments_lexer": "r",
   "version": "4.4.1"
  }
 },
 "nbformat": 4,
 "nbformat_minor": 4
}
